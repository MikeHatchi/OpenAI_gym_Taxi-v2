{
 "cells": [
  {
   "cell_type": "markdown",
   "metadata": {},
   "source": [
    "# Reinforcement Learning with Expected Sarsa\n",
    "\n",
    "\n",
    "### OpenAI Gym Taxi-v2\n",
    "This is a Udacity Machine Learning Engineer NanoDegree Program mini-project."
   ]
  },
  {
   "cell_type": "markdown",
   "metadata": {},
   "source": [
    "This task was introduced in [Dietterich2000] to illustrate some issues in hierarchical reinforcement learning. There are 4 locations (labeled by different letters) and your job is to pick up the passenger at one location and drop him off in another. You receive +20 points for a successful dropoff, and lose 1 point for every timestep it takes. There is also a 10 point penalty for illegal pick-up and drop-off actions.\n",
    "\n",
    "[Dietterich2000]\tT Erez, Y Tassa, E Todorov, \"Hierarchical Reinforcement Learning with the MAXQ Value Function Decomposition\", 2011.\n",
    "\n",
    "source: https://gym.openai.com/envs/Taxi-v2/"
   ]
  },
  {
   "cell_type": "markdown",
   "metadata": {},
   "source": [
    "### Some details"
   ]
  },
  {
   "cell_type": "code",
   "execution_count": 1,
   "metadata": {},
   "outputs": [
    {
     "name": "stdout",
     "output_type": "stream",
     "text": [
      "+---------+\n",
      "|R: | : :\u001b[35mG\u001b[0m|\n",
      "| : : :\u001b[43m \u001b[0m: |\n",
      "| : : : : |\n",
      "| | : | : |\n",
      "|\u001b[34;1mY\u001b[0m| : |B: |\n",
      "+---------+\n",
      "\n"
     ]
    }
   ],
   "source": [
    "from IPython.core.interactiveshell import InteractiveShell\n",
    "InteractiveShell.ast_node_interactivity = \"all\"\n",
    "import matplotlib.pyplot as plt\n",
    "\n",
    "import gym\n",
    "env = gym.make(\"Taxi-v2\")\n",
    "env.render()"
   ]
  },
  {
   "cell_type": "markdown",
   "metadata": {},
   "source": [
    "- **Yellow rectangle** is the taxi when the taxi is empty and green with a passenger.\n",
    "- **'I'** is a wall which the taxi can't cross.\n",
    "- **R, G, Y, B** are the possible pick-up and drop-off locations. When the letter is blue, this is the pick-up location and then purple the drop-off."
   ]
  },
  {
   "cell_type": "markdown",
   "metadata": {},
   "source": [
    "- **State Space** size is 5x5x5x4 --> 500.\n",
    "<br>(taxi rows, taxi colums, passenger state (4 locations + 1 in a the cab, 4 destinations)).\n",
    "- **Action Space** size is 6:\n",
    "    - 0 = south\n",
    "    - 1 = north\n",
    "    - 2 = east\n",
    "    - 3 = west\n",
    "    - 4 = pickup\n",
    "    - 5 = dropoff"
   ]
  },
  {
   "cell_type": "code",
   "execution_count": 2,
   "metadata": {},
   "outputs": [
    {
     "name": "stdout",
     "output_type": "stream",
     "text": [
      "State Space:Discrete(500)\n",
      "Action Space:Discrete(6)\n"
     ]
    }
   ],
   "source": [
    "print(\"State Space:{}\".format(env.observation_space))\n",
    "print(\"Action Space:{}\".format(env.action_space))"
   ]
  },
  {
   "cell_type": "markdown",
   "metadata": {},
   "source": [
    "### Agent"
   ]
  },
  {
   "cell_type": "code",
   "execution_count": 3,
   "metadata": {},
   "outputs": [],
   "source": [
    "import numpy as np\n",
    "from collections import defaultdict\n",
    "\n",
    "class Agent:\n",
    "\n",
    "    def __init__(self, nA=6):\n",
    "        \"\"\" Initialize agent.\n",
    "\n",
    "        Params\n",
    "        ======\n",
    "        - nA: number of actions available to the agent\n",
    "        \"\"\"\n",
    "        self.nA = nA\n",
    "        self.Q = defaultdict(lambda: np.zeros(self.nA))\n",
    "        self.epsilon = 0.0001\n",
    "        self.alpha = 0.2\n",
    "        self.gamma = 0.9\n",
    "\n",
    "    def update_Q(self, Qsa, Qsa_next, reward, alpha, gamma):\n",
    "        \"\"\" updates the action-value function estimate using the most recent time step \"\"\"\n",
    "        return Qsa + (self.alpha * (reward + (self.gamma * Qsa_next) - Qsa))\n",
    "\n",
    "    def epsilon_greedy_probs(self, Q_s, epsilon):\n",
    "        \"\"\" obtains the action probabilities corresponding to epsilon-greedy policy \"\"\"\n",
    "\n",
    "        policy_s = np.ones(self.nA) * epsilon / self.nA\n",
    "        policy_s[np.argmax(Q_s)] = 1 - epsilon + (epsilon / self.nA)\n",
    "        return policy_s\n",
    "\n",
    "    def select_action(self, state):\n",
    "        \"\"\" Given the state, select an action.\n",
    "\n",
    "        Params\n",
    "        ======\n",
    "        - state: the current state of the environment\n",
    "\n",
    "        Returns\n",
    "        =======\n",
    "        - action: an integer, compatible with the task's action space\n",
    "        \"\"\"\n",
    "        state_policy = self.epsilon_greedy_probs(self.Q[state], self.epsilon)\n",
    "        action = np.random.choice(np.arange(self.nA), p=state_policy)\n",
    "        return action\n",
    "\n",
    "    def step(self, state, action, reward, next_state, done):\n",
    "        \"\"\" Update the agent's knowledge, using the most recently sampled tuple.\n",
    "\n",
    "        Params\n",
    "        ======\n",
    "        - state: the previous state of the environment\n",
    "        - action: the agent's previous choice of action\n",
    "        - reward: last reward received\n",
    "        - next_state: the current state of the environment\n",
    "        - done: whether the episode is complete (True or False)\n",
    "        \"\"\"\n",
    "        # get epsilon-greedy action probabilities (for S')\n",
    "        policy_s = self.epsilon_greedy_probs(self.Q[next_state], self.epsilon)\n",
    "\n",
    "        # update Qsa\n",
    "\n",
    "        self.Q[state][action] = self.update_Q(self.Q[state][action], np.dot(self.Q[next_state], policy_s), \\\n",
    "                                                  reward, self.alpha, self.gamma)"
   ]
  },
  {
   "cell_type": "markdown",
   "metadata": {},
   "source": [
    "### Monitor"
   ]
  },
  {
   "cell_type": "code",
   "execution_count": 4,
   "metadata": {},
   "outputs": [],
   "source": [
    "from collections import deque\n",
    "import sys\n",
    "import math\n",
    "import time\n",
    "from time import sleep\n",
    "from IPython.display import clear_output\n",
    "\n",
    "def interact(env, agent, num_episodes=20000, window=100):\n",
    "    \"\"\" Monitor agent's performance.\n",
    "\n",
    "    Params\n",
    "    ======\n",
    "    - env: instance of OpenAI Gym's Taxi-v1 environment\n",
    "    - agent: instance of class Agent (see Agent.py for details)\n",
    "    - num_episodes: number of episodes of agent-environment interaction\n",
    "    - window: number of episodes to consider when calculating average rewards\n",
    "\n",
    "    Returns\n",
    "    =======\n",
    "    - avg_rewards: deque containing average rewards\n",
    "    - best_avg_reward: largest value in the avg_rewards deque\n",
    "    \"\"\"\n",
    "    # initialize average rewards\n",
    "    avg_rewards = deque(maxlen=num_episodes)\n",
    "    # initialize best average reward\n",
    "    best_avg_reward = -math.inf\n",
    "    # initialize monitor for most recent rewards and performance\n",
    "    \n",
    "    samp_rewards = deque(maxlen=window)\n",
    "    \n",
    "    # for each episode\n",
    "    for i_episode in range(1, num_episodes+1):\n",
    "        # begin the episode\n",
    "        state = env.reset()\n",
    "        # initialize the sampled reward\n",
    "        samp_reward = 0\n",
    "        frames = []\n",
    "        while True:\n",
    "            # agent selects an action\n",
    "            action = agent.select_action(state)\n",
    "            # agent performs the selected action\n",
    "            next_state, reward, done, _ = env.step(action)\n",
    "            # agent performs internal updates based on sampled experience\n",
    "            agent.step(state, action, reward, next_state, done)\n",
    "            # update the sampled reward\n",
    "            samp_reward += reward\n",
    "            # update the state (s <- s') to next time step\n",
    "            state = next_state\n",
    "            \n",
    "            frames.append({'frame': env.render(mode='ansi'),\n",
    "                           'state': state,\n",
    "                           'action': action,\n",
    "                           'reward': reward})\n",
    "            \n",
    "            if done:\n",
    "                # save final sampled reward\n",
    "                samp_rewards.append(samp_reward)\n",
    "                \n",
    "                break\n",
    "        \n",
    "        if (i_episode >= 100):\n",
    "            \n",
    "            \"\"\"\n",
    "            # monitor agent's real time movements\n",
    "            for i, frame in enumerate(frames):\n",
    "                clear_output(wait=True)\n",
    "                print(frame['frame'])\n",
    "                print(f\"Timestep: {i + 1}\")\n",
    "                print(f\"State: {frame['state']}\")\n",
    "                print(f\"Action: {frame['action']}\")\n",
    "                print(f\"Reward: {frame['reward']}\")\n",
    "                sleep(.1)\n",
    "            \"\"\"\n",
    "           \n",
    "            # get average reward from last 100 episodes\n",
    "            avg_reward = np.mean(samp_rewards)\n",
    "            # append to deque\n",
    "            avg_rewards.append(avg_reward)\n",
    "            # update best average reward\n",
    "            if avg_reward > best_avg_reward:\n",
    "                best_avg_reward = avg_reward\n",
    "            \n",
    "\n",
    "               \n",
    "        # monitor progress\n",
    "        print(\"\\rEpisode {}/{} || Best average reward {}\".format(i_episode, num_episodes, best_avg_reward), end=\"\")\n",
    "        sys.stdout.flush()\n",
    "        \n",
    "        \n",
    "        # check if task is solved (according to OpenAI Gym)\n",
    "        if best_avg_reward >= 9.7:\n",
    "            print('\\nEnvironment solved in {} episodes.'.format(i_episode), end=\"\")\n",
    "            break\n",
    "        if i_episode == num_episodes: print('\\n')\n",
    "\n",
    "    return avg_rewards, best_avg_reward\n"
   ]
  },
  {
   "cell_type": "markdown",
   "metadata": {},
   "source": [
    "### OpenAI Gym - Taxi-v2"
   ]
  },
  {
   "cell_type": "code",
   "execution_count": 5,
   "metadata": {},
   "outputs": [
    {
     "name": "stdout",
     "output_type": "stream",
     "text": [
      "Episode 20000/20000 || Best average reward 9.341\n",
      "\n"
     ]
    }
   ],
   "source": [
    "agent = Agent()\n",
    "avg_rewards, best_avg_reward = interact(env, agent)"
   ]
  },
  {
   "cell_type": "code",
   "execution_count": null,
   "metadata": {},
   "outputs": [],
   "source": []
  }
 ],
 "metadata": {
  "kernelspec": {
   "display_name": "Python 3",
   "language": "python",
   "name": "python3"
  },
  "language_info": {
   "codemirror_mode": {
    "name": "ipython",
    "version": 3
   },
   "file_extension": ".py",
   "mimetype": "text/x-python",
   "name": "python",
   "nbconvert_exporter": "python",
   "pygments_lexer": "ipython3",
   "version": "3.6.8"
  }
 },
 "nbformat": 4,
 "nbformat_minor": 2
}
